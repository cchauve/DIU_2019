{
 "cells": [
  {
   "cell_type": "markdown",
   "metadata": {},
   "source": [
    "# Comparaison de la complexité d'algorithmes de tri\n",
    "### Cedric Chauve, cedric.chauve@u-bordeaux.fr\n",
    "### 15 mai 2019\n",
    "\n",
    "Dans ce calepin, on va lancer des algoritmes de tri sur des listes d'entiers tirées aléatoirement et examiner la complexité de différents algorithmes pour essayer de deviner la complexité asymptotique et en moyenne."
   ]
  },
  {
   "cell_type": "code",
   "execution_count": 7,
   "metadata": {},
   "outputs": [],
   "source": [
    "import random as random\n",
    "from bubble_sort    import bubble_sort\n",
    "from insertion_sort import insertion_sort\n",
    "from merge_sort     import merge_sort\n",
    "from heap_sort      import heap_sort"
   ]
  },
  {
   "cell_type": "code",
   "execution_count": 47,
   "metadata": {},
   "outputs": [],
   "source": [
    "# Génération de données\n",
    "\n",
    "LISTE_N   = [n*10 for n in range(1,100)] # Liste des tailles des collections à trier\n",
    "NB_LISTES = 100 # Pour chaque taille on génère 100 collections (99 aléatoires)\n",
    "NB_MAX    = 100 # Valeur max d'un nombre dans une collection\n",
    "\n",
    "def creer_collection(n):\n",
    "    return([random.randint(1,NB_MAX) for i in range(n)])\n",
    "\n",
    "def creer_id_renversee(n):\n",
    "    return([n-i for i in range(n)])"
   ]
  },
  {
   "cell_type": "code",
   "execution_count": 44,
   "metadata": {},
   "outputs": [],
   "source": [
    "INPUT = {n:[creer_collection(n) for x in range(NB_LISTES)]+[creer_id_renversee(n)] for n in LISTE_N}"
   ]
  },
  {
   "cell_type": "code",
   "execution_count": 46,
   "metadata": {},
   "outputs": [
    {
     "data": {
      "text/plain": [
       "[[77, 87, 83, 43, 56, 40, 12, 9, 41, 10],\n",
       " [85, 88, 48, 21, 82, 71, 3, 92, 43, 65],\n",
       " [83, 3, 27, 88, 49, 71, 70, 76, 65, 77],\n",
       " [32, 7, 42, 23, 64, 87, 90, 45, 14, 86],\n",
       " [14, 74, 47, 6, 82, 68, 35, 72, 96, 80],\n",
       " [16, 70, 19, 40, 71, 20, 52, 23, 54, 54],\n",
       " [42, 13, 81, 94, 92, 64, 18, 9, 26, 13],\n",
       " [44, 42, 25, 93, 23, 20, 52, 15, 19, 14],\n",
       " [7, 9, 29, 41, 71, 6, 44, 31, 84, 62],\n",
       " [83, 21, 81, 26, 9, 64, 34, 77, 88, 72],\n",
       " [10, 9, 8, 7, 6, 5, 4, 3, 2, 1]]"
      ]
     },
     "execution_count": 46,
     "metadata": {},
     "output_type": "execute_result"
    }
   ],
   "source": [
    "INPUT[10]"
   ]
  },
  {
   "cell_type": "code",
   "execution_count": 29,
   "metadata": {},
   "outputs": [
    {
     "name": "stdout",
     "output_type": "stream",
     "text": [
      "[20, 19, 18, 17, 16, 15, 14, 13, 12, 11, 10, 9, 8, 7, 6, 5, 4, 3, 2, 1]\n"
     ]
    }
   ],
   "source": [
    "print(creer_id_renversee(20))"
   ]
  },
  {
   "cell_type": "code",
   "execution_count": null,
   "metadata": {},
   "outputs": [],
   "source": []
  }
 ],
 "metadata": {
  "kernelspec": {
   "display_name": "Python 3",
   "language": "python",
   "name": "python3"
  },
  "language_info": {
   "codemirror_mode": {
    "name": "ipython",
    "version": 3
   },
   "file_extension": ".py",
   "mimetype": "text/x-python",
   "name": "python",
   "nbconvert_exporter": "python",
   "pygments_lexer": "ipython3",
   "version": "3.6.8"
  }
 },
 "nbformat": 4,
 "nbformat_minor": 2
}
